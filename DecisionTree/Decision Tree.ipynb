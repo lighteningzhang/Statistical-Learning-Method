{
 "cells": [
  {
   "cell_type": "code",
   "execution_count": 21,
   "metadata": {
    "scrolled": true
   },
   "outputs": [],
   "source": [
    "import pandas as pd\n",
    "import numpy as np\n",
    "data_path = r'../Mnist/'\n",
    "train_data = pd.read_csv(data_path+'mnist_train.csv', header = None)\n",
    "test_data = pd.read_csv(data_path+'mnist_test.csv ', header = None)\n",
    "xtrain = train_data.loc[:, 1:]\n",
    "ytrain = train_data.loc[:, 0]\n",
    "xtest = test_data.loc[:, 1:]\n",
    "ytest = test_data.loc[:, 0]"
   ]
  },
  {
   "cell_type": "markdown",
   "metadata": {},
   "source": [
    "### 每个特征值二值化，相当于特征只有0和1两种，也就是决策树的每个节点只有两个分叉\n",
    "### 而一共要分出10类"
   ]
  },
  {
   "cell_type": "code",
   "execution_count": 22,
   "metadata": {},
   "outputs": [
    {
     "name": "stderr",
     "output_type": "stream",
     "text": [
      "e:\\python\\lib\\site-packages\\ipykernel_launcher.py:1: SettingWithCopyWarning: \n",
      "A value is trying to be set on a copy of a slice from a DataFrame.\n",
      "Try using .loc[row_indexer,col_indexer] = value instead\n",
      "\n",
      "See the caveats in the documentation: http://pandas.pydata.org/pandas-docs/stable/user_guide/indexing.html#returning-a-view-versus-a-copy\n",
      "  \"\"\"Entry point for launching an IPython kernel.\n",
      "e:\\python\\lib\\site-packages\\ipykernel_launcher.py:2: SettingWithCopyWarning: \n",
      "A value is trying to be set on a copy of a slice from a DataFrame.\n",
      "Try using .loc[row_indexer,col_indexer] = value instead\n",
      "\n",
      "See the caveats in the documentation: http://pandas.pydata.org/pandas-docs/stable/user_guide/indexing.html#returning-a-view-versus-a-copy\n",
      "  \n",
      "e:\\python\\lib\\site-packages\\ipykernel_launcher.py:3: SettingWithCopyWarning: \n",
      "A value is trying to be set on a copy of a slice from a DataFrame.\n",
      "Try using .loc[row_indexer,col_indexer] = value instead\n",
      "\n",
      "See the caveats in the documentation: http://pandas.pydata.org/pandas-docs/stable/user_guide/indexing.html#returning-a-view-versus-a-copy\n",
      "  This is separate from the ipykernel package so we can avoid doing imports until\n",
      "e:\\python\\lib\\site-packages\\ipykernel_launcher.py:4: SettingWithCopyWarning: \n",
      "A value is trying to be set on a copy of a slice from a DataFrame.\n",
      "Try using .loc[row_indexer,col_indexer] = value instead\n",
      "\n",
      "See the caveats in the documentation: http://pandas.pydata.org/pandas-docs/stable/user_guide/indexing.html#returning-a-view-versus-a-copy\n",
      "  after removing the cwd from sys.path.\n"
     ]
    }
   ],
   "source": [
    "xtrain[xtrain<128] = 0\n",
    "xtrain[xtrain>=128] = 1\n",
    "xtest[xtest<128] = 0\n",
    "xtest[xtest>=128] = 1"
   ]
  },
  {
   "cell_type": "code",
   "execution_count": 11,
   "metadata": {},
   "outputs": [],
   "source": [
    "from math import log, exp"
   ]
  },
  {
   "cell_type": "code",
   "execution_count": 30,
   "metadata": {},
   "outputs": [],
   "source": [
    "def majorClass(labels):\n",
    "    '''\n",
    "    计算所有类中占比最大的类\n",
    "    '''\n",
    "    dic = {}\n",
    "    for l in labels:\n",
    "        if l in dic:\n",
    "            dic[l] += 1\n",
    "        else:\n",
    "            dic[l] = 1\n",
    "#  dic:\n",
    "#  key: label, val: cnt\n",
    "    res_dic = sorted(dic.items(), key = lambda it: it[1], reversed = True)\n",
    "    return res_dic[0][0]"
   ]
  },
  {
   "cell_type": "code",
   "execution_count": 33,
   "metadata": {},
   "outputs": [],
   "source": [
    "def entropy(prob_list):\n",
    "    return sum([-prob*log(prob) for prob in prob_list])\n",
    "def cal_H(ytrain):\n",
    "    '''\n",
    "    计算当前特征的熵增\n",
    "    '''\n",
    "    tol, dic = 0, {}\n",
    "    for y in ytrain:\n",
    "        if y in dic:\n",
    "            dic[y] += 1\n",
    "        else:\n",
    "            dic[y] = 1\n",
    "        tol += 1\n",
    "    prob_ls = []\n",
    "    for k in dic.keys():\n",
    "        prob_ls.append(dic[k]/tol)\n",
    "    return entropy(prob_ls)"
   ]
  },
  {
   "cell_type": "code",
   "execution_count": 36,
   "metadata": {},
   "outputs": [],
   "source": [
    "def cal_D_A(xfeature, ytrain):\n",
    "    featureSet = set(xfeature)\n",
    "    D_A = 0\n",
    "    for fea in featureSet:\n",
    "        D_A += xfeature[fea == xfeature].size/xfeature.size*cal_H(ytrain[xfeature==fea])\n",
    "    return D_A"
   ]
  },
  {
   "cell_type": "code",
   "execution_count": 38,
   "metadata": {},
   "outputs": [],
   "source": [
    "def sel_fea(xfeas, ytrain):\n",
    "    xfeas = xfeas.to_numpy()\n",
    "    ytrain = ytrain.to_numpy()\n",
    "    n, m = xfeas.shape\n",
    "    HD = cal_H(ytrain)\n",
    "    max_delt, max_fea = 0, 0\n",
    "    for i in range(m):\n",
    "        fea = xfeas[:, m]\n",
    "        D_A = cal_D_A(fea, ytrain)\n",
    "        if HD-D_A>delt:\n",
    "            delt = HD-D_A\n",
    "            max_fea = fea\n",
    "    return max_fea, max_delt"
   ]
  },
  {
   "cell_type": "code",
   "execution_count": 66,
   "metadata": {},
   "outputs": [],
   "source": [
    "nn = np.array([[1,2,3], [4,8,9]])\n"
   ]
  },
  {
   "cell_type": "code",
   "execution_count": 70,
   "metadata": {},
   "outputs": [],
   "source": [
    "def getSubData(xtrain, ytrain, fea, a):\n",
    "    '''\n",
    "    获取分割后的特征和标签\n",
    "    :param xtrain: 训练数据集\n",
    "    :param ytrain: 标签\n",
    "    :param fea: 哪维特征\n",
    "    :param a: 标签值是多少\n",
    "    '''\n",
    "    ret_labels, ret_feas = [], [] \n",
    "    for i in range(len(xtrain)):\n",
    "        if xtrain[i][fea] == a:\n",
    "            ret_feas.append(xtrain[i][:fea]+xtrain[i][fea+1:])\n",
    "            ret_labels.append(ytrain[i])\n",
    "    return ret_feas, ret_labels"
   ]
  },
  {
   "cell_type": "code",
   "execution_count": 71,
   "metadata": {},
   "outputs": [],
   "source": [
    "def createTree(xtrain,ytrain):\n",
    "    '''\n",
    "    建树\n",
    "    :param xtrain: 训练数据\n",
    "    :param ytrain: 标签\n",
    "    '''\n",
    "    epsilon = 0.2\n",
    "    print(\"Begin creating tree: \")             \n",
    "    clas = set([i for i in ytrain])\n",
    "    if clas == 1:\n",
    "        return ytrain[0]\n",
    "    if len(xtrain==0):\n",
    "        return majorClass(ytrain)\n",
    "    max_fea, max_delt = sel_fea(xtrain, ytrain)\n",
    "    if max_delt<0.2:\n",
    "        return majorClass(ytrain)\n",
    "    types = set([i for i in xtrain[:, max_fea]])\n",
    "    tree_dic = {max_fea: {}}\n",
    "    for t in types:\n",
    "        rest_xtrain, rest_ytrain= getSubData(xtrain, ytrain, max_fea, t)\n",
    "        tree_dic[max_fea][t] = createTree(rest_xtrain, rest_ytrain)\n",
    "    return tree_dic"
   ]
  },
  {
   "cell_type": "code",
   "execution_count": 74,
   "metadata": {},
   "outputs": [],
   "source": [
    "d = {2:{3:5,2:{3,8,9}}}"
   ]
  },
  {
   "cell_type": "code",
   "execution_count": 90,
   "metadata": {},
   "outputs": [],
   "source": [
    "(k, v), = d.items()"
   ]
  },
  {
   "cell_type": "code",
   "execution_count": 92,
   "metadata": {},
   "outputs": [
    {
     "data": {
      "text/plain": [
       "2"
      ]
     },
     "execution_count": 92,
     "metadata": {},
     "output_type": "execute_result"
    }
   ],
   "source": [
    "k"
   ]
  },
  {
   "cell_type": "code",
   "execution_count": 91,
   "metadata": {},
   "outputs": [
    {
     "data": {
      "text/plain": [
       "{3: 5, 2: {3, 8, 9}}"
      ]
     },
     "execution_count": 91,
     "metadata": {},
     "output_type": "execute_result"
    }
   ],
   "source": [
    "v"
   ]
  },
  {
   "cell_type": "code",
   "execution_count": null,
   "metadata": {},
   "outputs": [],
   "source": [
    "def predict(xtest, tree):\n",
    "    while "
   ]
  }
 ],
 "metadata": {
  "kernelspec": {
   "display_name": "Python 3",
   "language": "python",
   "name": "python3"
  },
  "language_info": {
   "codemirror_mode": {
    "name": "ipython",
    "version": 3
   },
   "file_extension": ".py",
   "mimetype": "text/x-python",
   "name": "python",
   "nbconvert_exporter": "python",
   "pygments_lexer": "ipython3",
   "version": "3.7.4"
  }
 },
 "nbformat": 4,
 "nbformat_minor": 2
}
