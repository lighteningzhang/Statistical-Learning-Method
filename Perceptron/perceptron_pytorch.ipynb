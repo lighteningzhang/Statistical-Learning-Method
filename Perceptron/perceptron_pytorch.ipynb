{
 "cells": [
  {
   "cell_type": "markdown",
   "metadata": {},
   "source": [
    "# 导入库"
   ]
  },
  {
   "cell_type": "code",
   "execution_count": 10,
   "metadata": {},
   "outputs": [],
   "source": [
    "import torch\n",
    "import torch.nn as nn\n",
    "import torch.nn.functional as F\n",
    "import numpy as np\n",
    "import pandas as pd"
   ]
  },
  {
   "cell_type": "markdown",
   "metadata": {},
   "source": [
    "# 读入Mnist数据"
   ]
  },
  {
   "cell_type": "code",
   "execution_count": 87,
   "metadata": {},
   "outputs": [],
   "source": [
    "data_path = r'../Mnist/'\n",
    "train_data = pd.read_csv(data_path+'mnist_train.csv')\n",
    "test_data = pd.read_csv(data_path+'mnist_test.csv')\n",
    "train_label = train_data.iloc[:,0].map(lambda x:x>=5).to_numpy()\n",
    "train_data = train_data.iloc[:,1:].to_numpy()/255\n",
    "test_label = test_data.iloc[:,0].map(lambda x:x>=5).to_numpy()\n",
    "test_data = test_data.iloc[:,1:].to_numpy()/255"
   ]
  },
  {
   "cell_type": "code",
   "execution_count": 88,
   "metadata": {},
   "outputs": [],
   "source": [
    "train_data = torch.FloatTensor(train_data)\n",
    "train_label = torch.LongTensor(train_label)\n",
    "test_data = torch.FloatTensor(test_data)\n",
    "test_label = torch.LongTensor(test_label)"
   ]
  },
  {
   "cell_type": "code",
   "execution_count": 129,
   "metadata": {},
   "outputs": [],
   "source": [
    "class Perceptron(nn.Module):\n",
    "    def __init__(self,in_dim, out_dim):\n",
    "        super( Perceptron, self).__init__()\n",
    "        self.layer = nn.Linear(in_dim, out_dim)\n",
    "       \n",
    "    def forward(self, feature):\n",
    "#         单层线性函数\n",
    "        x = self.layer(feature)\n",
    "        x = F.sigmoid(x)\n",
    "        return x"
   ]
  },
  {
   "cell_type": "code",
   "execution_count": 143,
   "metadata": {},
   "outputs": [],
   "source": [
    "def evaluate():\n",
    "    with torch.no_grad():\n",
    "        net.eval()\n",
    "        logits = net(test_data)\n",
    "        loss = F.cross_entropy(logits,test_label)\n",
    "#         预测值\n",
    "        pred = logits.argmax(1)\n",
    "        test_acc = pred.eq(test_label).sum()*1.0/len(test_label)\n",
    "        return loss, test_acc"
   ]
  },
  {
   "cell_type": "markdown",
   "metadata": {},
   "source": [
    "训练大体来说就是 通过loss值来更新参数"
   ]
  },
  {
   "cell_type": "markdown",
   "metadata": {},
   "source": [
    "套路：\n",
    "1. 定义网络\n",
    "2. 定义优化器\n",
    "3. 定义损失函数\n",
    "\n",
    "for: epoch (迭代)\n",
    "1. 特征-->网络  logits = net(train_feature)\n",
    "2. 计算loss  output =  lossFunction(logits, train_label)\n",
    "(分类任务)\n",
    "3. 预测类别  train_pred = logits.argmax(1)\n",
    "4. 准确率 train_pred.eq(train_label).sum()\\*1.0/len(train_label)\n",
    "5. 参数梯度清0 optimizer.zero_grad()\n",
    "6. 反向传播梯度 output.backward()\n",
    "7. 更新参数 optimizer.step()\n",
    "8. 评估:\n",
    "    with torch.zero_grad():\n",
    "        net.eval()\n",
    "        步骤和训练一样"
   ]
  },
  {
   "cell_type": "code",
   "execution_count": 145,
   "metadata": {
    "scrolled": true
   },
   "outputs": [
    {
     "name": "stdout",
     "output_type": "stream",
     "text": [
      "Train loss: 0.6910 | Train Accuracy: 0.5448 | Evaluate Loss: 0.6559 | Evaluate Accuracy: 0.6842\n",
      "Train loss: 0.6566 | Train Accuracy: 0.6829 | Evaluate Loss: 0.6280 | Evaluate Accuracy: 0.7247\n",
      "Train loss: 0.6292 | Train Accuracy: 0.7295 | Evaluate Loss: 0.6069 | Evaluate Accuracy: 0.7394\n",
      "Train loss: 0.6084 | Train Accuracy: 0.7419 | Evaluate Loss: 0.5907 | Evaluate Accuracy: 0.7451\n",
      "Train loss: 0.5924 | Train Accuracy: 0.7477 | Evaluate Loss: 0.5779 | Evaluate Accuracy: 0.7531\n",
      "Train loss: 0.5798 | Train Accuracy: 0.7539 | Evaluate Loss: 0.5674 | Evaluate Accuracy: 0.7610\n",
      "Train loss: 0.5695 | Train Accuracy: 0.7604 | Evaluate Loss: 0.5584 | Evaluate Accuracy: 0.7691\n",
      "Train loss: 0.5607 | Train Accuracy: 0.7672 | Evaluate Loss: 0.5507 | Evaluate Accuracy: 0.7762\n",
      "Train loss: 0.5530 | Train Accuracy: 0.7740 | Evaluate Loss: 0.5437 | Evaluate Accuracy: 0.7823\n",
      "Train loss: 0.5462 | Train Accuracy: 0.7799 | Evaluate Loss: 0.5374 | Evaluate Accuracy: 0.7877\n",
      "Train loss: 0.5401 | Train Accuracy: 0.7854 | Evaluate Loss: 0.5316 | Evaluate Accuracy: 0.7934\n",
      "Train loss: 0.5345 | Train Accuracy: 0.7907 | Evaluate Loss: 0.5263 | Evaluate Accuracy: 0.7979\n",
      "Train loss: 0.5294 | Train Accuracy: 0.7952 | Evaluate Loss: 0.5214 | Evaluate Accuracy: 0.8023\n",
      "Train loss: 0.5248 | Train Accuracy: 0.7989 | Evaluate Loss: 0.5168 | Evaluate Accuracy: 0.8068\n",
      "Train loss: 0.5205 | Train Accuracy: 0.8026 | Evaluate Loss: 0.5127 | Evaluate Accuracy: 0.8115\n",
      "Train loss: 0.5165 | Train Accuracy: 0.8067 | Evaluate Loss: 0.5088 | Evaluate Accuracy: 0.8158\n",
      "Train loss: 0.5129 | Train Accuracy: 0.8100 | Evaluate Loss: 0.5054 | Evaluate Accuracy: 0.8185\n",
      "Train loss: 0.5095 | Train Accuracy: 0.8134 | Evaluate Loss: 0.5022 | Evaluate Accuracy: 0.8220\n",
      "Train loss: 0.5065 | Train Accuracy: 0.8163 | Evaluate Loss: 0.4993 | Evaluate Accuracy: 0.8252\n",
      "Train loss: 0.5037 | Train Accuracy: 0.8196 | Evaluate Loss: 0.4967 | Evaluate Accuracy: 0.8299\n",
      "Train loss: 0.5011 | Train Accuracy: 0.8225 | Evaluate Loss: 0.4943 | Evaluate Accuracy: 0.8324\n",
      "Train loss: 0.4988 | Train Accuracy: 0.8258 | Evaluate Loss: 0.4922 | Evaluate Accuracy: 0.8342\n",
      "Train loss: 0.4968 | Train Accuracy: 0.8281 | Evaluate Loss: 0.4903 | Evaluate Accuracy: 0.8375\n",
      "Train loss: 0.4949 | Train Accuracy: 0.8303 | Evaluate Loss: 0.4887 | Evaluate Accuracy: 0.8384\n",
      "Train loss: 0.4933 | Train Accuracy: 0.8319 | Evaluate Loss: 0.4872 | Evaluate Accuracy: 0.8403\n",
      "Train loss: 0.4918 | Train Accuracy: 0.8335 | Evaluate Loss: 0.4859 | Evaluate Accuracy: 0.8412\n",
      "Train loss: 0.4904 | Train Accuracy: 0.8350 | Evaluate Loss: 0.4848 | Evaluate Accuracy: 0.8419\n",
      "Train loss: 0.4892 | Train Accuracy: 0.8361 | Evaluate Loss: 0.4837 | Evaluate Accuracy: 0.8422\n",
      "Train loss: 0.4880 | Train Accuracy: 0.8370 | Evaluate Loss: 0.4826 | Evaluate Accuracy: 0.8418\n",
      "Train loss: 0.4870 | Train Accuracy: 0.8374 | Evaluate Loss: 0.4816 | Evaluate Accuracy: 0.8426\n",
      "Train loss: 0.4859 | Train Accuracy: 0.8379 | Evaluate Loss: 0.4807 | Evaluate Accuracy: 0.8427\n",
      "Train loss: 0.4849 | Train Accuracy: 0.8386 | Evaluate Loss: 0.4797 | Evaluate Accuracy: 0.8433\n",
      "Train loss: 0.4840 | Train Accuracy: 0.8389 | Evaluate Loss: 0.4788 | Evaluate Accuracy: 0.8438\n",
      "Train loss: 0.4830 | Train Accuracy: 0.8393 | Evaluate Loss: 0.4780 | Evaluate Accuracy: 0.8438\n",
      "Train loss: 0.4821 | Train Accuracy: 0.8397 | Evaluate Loss: 0.4771 | Evaluate Accuracy: 0.8437\n",
      "Train loss: 0.4813 | Train Accuracy: 0.8401 | Evaluate Loss: 0.4763 | Evaluate Accuracy: 0.8444\n",
      "Train loss: 0.4804 | Train Accuracy: 0.8408 | Evaluate Loss: 0.4756 | Evaluate Accuracy: 0.8448\n",
      "Train loss: 0.4797 | Train Accuracy: 0.8412 | Evaluate Loss: 0.4749 | Evaluate Accuracy: 0.8460\n",
      "Train loss: 0.4789 | Train Accuracy: 0.8416 | Evaluate Loss: 0.4742 | Evaluate Accuracy: 0.8469\n",
      "Train loss: 0.4782 | Train Accuracy: 0.8421 | Evaluate Loss: 0.4735 | Evaluate Accuracy: 0.8469\n",
      "Train loss: 0.4775 | Train Accuracy: 0.8425 | Evaluate Loss: 0.4729 | Evaluate Accuracy: 0.8476\n",
      "Train loss: 0.4768 | Train Accuracy: 0.8429 | Evaluate Loss: 0.4723 | Evaluate Accuracy: 0.8490\n",
      "Train loss: 0.4762 | Train Accuracy: 0.8430 | Evaluate Loss: 0.4718 | Evaluate Accuracy: 0.8493\n",
      "Train loss: 0.4756 | Train Accuracy: 0.8432 | Evaluate Loss: 0.4713 | Evaluate Accuracy: 0.8494\n",
      "Train loss: 0.4751 | Train Accuracy: 0.8436 | Evaluate Loss: 0.4708 | Evaluate Accuracy: 0.8497\n",
      "Train loss: 0.4745 | Train Accuracy: 0.8441 | Evaluate Loss: 0.4703 | Evaluate Accuracy: 0.8502\n",
      "Train loss: 0.4740 | Train Accuracy: 0.8445 | Evaluate Loss: 0.4698 | Evaluate Accuracy: 0.8511\n",
      "Train loss: 0.4735 | Train Accuracy: 0.8445 | Evaluate Loss: 0.4694 | Evaluate Accuracy: 0.8515\n",
      "Train loss: 0.4730 | Train Accuracy: 0.8450 | Evaluate Loss: 0.4689 | Evaluate Accuracy: 0.8517\n",
      "Train loss: 0.4726 | Train Accuracy: 0.8454 | Evaluate Loss: 0.4685 | Evaluate Accuracy: 0.8520\n",
      "Train loss: 0.4721 | Train Accuracy: 0.8456 | Evaluate Loss: 0.4681 | Evaluate Accuracy: 0.8526\n",
      "Train loss: 0.4717 | Train Accuracy: 0.8458 | Evaluate Loss: 0.4677 | Evaluate Accuracy: 0.8530\n",
      "Train loss: 0.4713 | Train Accuracy: 0.8461 | Evaluate Loss: 0.4673 | Evaluate Accuracy: 0.8533\n",
      "Train loss: 0.4709 | Train Accuracy: 0.8463 | Evaluate Loss: 0.4668 | Evaluate Accuracy: 0.8538\n",
      "Train loss: 0.4705 | Train Accuracy: 0.8468 | Evaluate Loss: 0.4664 | Evaluate Accuracy: 0.8545\n",
      "Train loss: 0.4701 | Train Accuracy: 0.8473 | Evaluate Loss: 0.4661 | Evaluate Accuracy: 0.8549\n",
      "Train loss: 0.4697 | Train Accuracy: 0.8477 | Evaluate Loss: 0.4657 | Evaluate Accuracy: 0.8552\n",
      "Train loss: 0.4693 | Train Accuracy: 0.8478 | Evaluate Loss: 0.4653 | Evaluate Accuracy: 0.8553\n",
      "Train loss: 0.4689 | Train Accuracy: 0.8483 | Evaluate Loss: 0.4649 | Evaluate Accuracy: 0.8553\n",
      "Train loss: 0.4686 | Train Accuracy: 0.8488 | Evaluate Loss: 0.4645 | Evaluate Accuracy: 0.8561\n",
      "Train loss: 0.4682 | Train Accuracy: 0.8491 | Evaluate Loss: 0.4642 | Evaluate Accuracy: 0.8563\n",
      "Train loss: 0.4679 | Train Accuracy: 0.8494 | Evaluate Loss: 0.4638 | Evaluate Accuracy: 0.8563\n",
      "Train loss: 0.4676 | Train Accuracy: 0.8497 | Evaluate Loss: 0.4635 | Evaluate Accuracy: 0.8566\n",
      "Train loss: 0.4672 | Train Accuracy: 0.8501 | Evaluate Loss: 0.4632 | Evaluate Accuracy: 0.8568\n",
      "Train loss: 0.4669 | Train Accuracy: 0.8504 | Evaluate Loss: 0.4628 | Evaluate Accuracy: 0.8565\n",
      "Train loss: 0.4666 | Train Accuracy: 0.8508 | Evaluate Loss: 0.4625 | Evaluate Accuracy: 0.8569\n",
      "Train loss: 0.4663 | Train Accuracy: 0.8511 | Evaluate Loss: 0.4622 | Evaluate Accuracy: 0.8576\n",
      "Train loss: 0.4660 | Train Accuracy: 0.8514 | Evaluate Loss: 0.4619 | Evaluate Accuracy: 0.8580\n",
      "Train loss: 0.4657 | Train Accuracy: 0.8515 | Evaluate Loss: 0.4616 | Evaluate Accuracy: 0.8583\n",
      "Train loss: 0.4654 | Train Accuracy: 0.8518 | Evaluate Loss: 0.4614 | Evaluate Accuracy: 0.8583\n",
      "Train loss: 0.4652 | Train Accuracy: 0.8520 | Evaluate Loss: 0.4611 | Evaluate Accuracy: 0.8585\n",
      "Train loss: 0.4649 | Train Accuracy: 0.8521 | Evaluate Loss: 0.4608 | Evaluate Accuracy: 0.8588\n",
      "Train loss: 0.4646 | Train Accuracy: 0.8522 | Evaluate Loss: 0.4605 | Evaluate Accuracy: 0.8591\n",
      "Train loss: 0.4644 | Train Accuracy: 0.8525 | Evaluate Loss: 0.4603 | Evaluate Accuracy: 0.8596\n",
      "Train loss: 0.4641 | Train Accuracy: 0.8528 | Evaluate Loss: 0.4600 | Evaluate Accuracy: 0.8599\n",
      "Train loss: 0.4638 | Train Accuracy: 0.8530 | Evaluate Loss: 0.4598 | Evaluate Accuracy: 0.8603\n",
      "Train loss: 0.4636 | Train Accuracy: 0.8533 | Evaluate Loss: 0.4595 | Evaluate Accuracy: 0.8604\n",
      "Train loss: 0.4634 | Train Accuracy: 0.8536 | Evaluate Loss: 0.4593 | Evaluate Accuracy: 0.8604\n",
      "Train loss: 0.4631 | Train Accuracy: 0.8538 | Evaluate Loss: 0.4590 | Evaluate Accuracy: 0.8604\n",
      "Train loss: 0.4629 | Train Accuracy: 0.8539 | Evaluate Loss: 0.4588 | Evaluate Accuracy: 0.8607\n",
      "Train loss: 0.4626 | Train Accuracy: 0.8539 | Evaluate Loss: 0.4586 | Evaluate Accuracy: 0.8608\n",
      "Train loss: 0.4624 | Train Accuracy: 0.8542 | Evaluate Loss: 0.4584 | Evaluate Accuracy: 0.8611\n",
      "Train loss: 0.4622 | Train Accuracy: 0.8543 | Evaluate Loss: 0.4581 | Evaluate Accuracy: 0.8613\n",
      "Train loss: 0.4620 | Train Accuracy: 0.8544 | Evaluate Loss: 0.4579 | Evaluate Accuracy: 0.8619\n",
      "Train loss: 0.4617 | Train Accuracy: 0.8545 | Evaluate Loss: 0.4577 | Evaluate Accuracy: 0.8624\n",
      "Train loss: 0.4615 | Train Accuracy: 0.8546 | Evaluate Loss: 0.4575 | Evaluate Accuracy: 0.8621\n",
      "Train loss: 0.4613 | Train Accuracy: 0.8548 | Evaluate Loss: 0.4573 | Evaluate Accuracy: 0.8623\n",
      "Train loss: 0.4611 | Train Accuracy: 0.8551 | Evaluate Loss: 0.4571 | Evaluate Accuracy: 0.8625\n"
     ]
    },
    {
     "name": "stdout",
     "output_type": "stream",
     "text": [
      "Train loss: 0.4609 | Train Accuracy: 0.8552 | Evaluate Loss: 0.4569 | Evaluate Accuracy: 0.8623\n",
      "Train loss: 0.4607 | Train Accuracy: 0.8554 | Evaluate Loss: 0.4567 | Evaluate Accuracy: 0.8625\n",
      "Train loss: 0.4605 | Train Accuracy: 0.8554 | Evaluate Loss: 0.4565 | Evaluate Accuracy: 0.8626\n",
      "Train loss: 0.4603 | Train Accuracy: 0.8555 | Evaluate Loss: 0.4563 | Evaluate Accuracy: 0.8627\n",
      "Train loss: 0.4601 | Train Accuracy: 0.8558 | Evaluate Loss: 0.4561 | Evaluate Accuracy: 0.8631\n",
      "Train loss: 0.4599 | Train Accuracy: 0.8560 | Evaluate Loss: 0.4559 | Evaluate Accuracy: 0.8635\n",
      "Train loss: 0.4597 | Train Accuracy: 0.8561 | Evaluate Loss: 0.4557 | Evaluate Accuracy: 0.8637\n",
      "Train loss: 0.4595 | Train Accuracy: 0.8562 | Evaluate Loss: 0.4555 | Evaluate Accuracy: 0.8638\n",
      "Train loss: 0.4593 | Train Accuracy: 0.8564 | Evaluate Loss: 0.4553 | Evaluate Accuracy: 0.8639\n",
      "Train loss: 0.4591 | Train Accuracy: 0.8565 | Evaluate Loss: 0.4551 | Evaluate Accuracy: 0.8639\n",
      "Train loss: 0.4589 | Train Accuracy: 0.8567 | Evaluate Loss: 0.4550 | Evaluate Accuracy: 0.8636\n",
      "Train loss: 0.4588 | Train Accuracy: 0.8569 | Evaluate Loss: 0.4548 | Evaluate Accuracy: 0.8638\n"
     ]
    }
   ],
   "source": [
    "net = Perceptron(train_data.shape[-1], 2)\n",
    "optimizer = torch.optim.Adam(net.parameters(), lr = 0.01)\n",
    "loss = nn.CrossEntropyLoss()\n",
    "for t in range(100):\n",
    "    logits = net(train_data)\n",
    "    output = loss(logits, train_label)\n",
    "#     预测\n",
    "    train_pred = logits.argmax(1)\n",
    "#     \n",
    "    train_acc = train_pred.eq(train_label).sum()*1.0/len(train_label)\n",
    "    optimizer.zero_grad()\n",
    "    output.backward()\n",
    "    optimizer.step()\n",
    "    test_loss, test_acc = evaluate()\n",
    "    print(\"Train loss: {:.4f} | Train Accuracy: {:.4f} | Evaluate Loss: {:.4f} | Evaluate Accuracy: {:.4f}\".format(output, train_acc, test_loss, test_acc))"
   ]
  }
 ],
 "metadata": {
  "kernelspec": {
   "display_name": "Python 3",
   "language": "python",
   "name": "python3"
  },
  "language_info": {
   "codemirror_mode": {
    "name": "ipython",
    "version": 3
   },
   "file_extension": ".py",
   "mimetype": "text/x-python",
   "name": "python",
   "nbconvert_exporter": "python",
   "pygments_lexer": "ipython3",
   "version": "3.7.6"
  }
 },
 "nbformat": 4,
 "nbformat_minor": 4
}
