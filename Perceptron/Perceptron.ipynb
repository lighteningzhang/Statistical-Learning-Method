{
 "cells": [
  {
   "cell_type": "markdown",
   "metadata": {},
   "source": [
    "# 导入库"
   ]
  },
  {
   "cell_type": "code",
   "execution_count": 2,
   "metadata": {},
   "outputs": [],
   "source": [
    "import numpy as np\n",
    "import pandas as pd"
   ]
  },
  {
   "cell_type": "markdown",
   "metadata": {},
   "source": [
    "# 读数据"
   ]
  },
  {
   "cell_type": "code",
   "execution_count": 77,
   "metadata": {},
   "outputs": [],
   "source": [
    "data_path = r'../Mnist/'\n",
    "train_data = pd.read_csv(data_path+'mnist_train.csv',header=None)\n",
    "test_data = pd.read_csv(data_path+'mnist_test.csv')\n",
    "train_label = train_data.iloc[:, 0].map(lambda x: 1 if x>=5 else -1).to_numpy()\n",
    "# train_label[x>=5] = 1\n",
    "test_label = test_data.iloc[:, 0].map(lambda x:1 if x>=5 else -1).to_numpy()\n",
    "train_data = train_data.iloc[:, 1:].to_numpy()\n",
    "test_data = test_data.iloc[:, 1:].to_numpy()"
   ]
  },
  {
   "cell_type": "markdown",
   "metadata": {},
   "source": [
    "# 模型\n",
    "公式：\n",
    "<br>\n",
    "训练时 -y\\*(wx+b)>0\n",
    "    <br>\n",
    "    梯度下降法迭代:\n",
    "    <br>\n",
    "       w = w+a\\*yx <br>\n",
    "       b = b+a*y"
   ]
  },
  {
   "cell_type": "code",
   "execution_count": 84,
   "metadata": {},
   "outputs": [],
   "source": [
    "def perceptron(data, label, iter=100):\n",
    "    '''\n",
    "    data和label均是numpy array 数据类型\n",
    "    \n",
    "    data是训练数据，label是标签\n",
    "    '''\n",
    "    n, m = data.shape\n",
    "    data = np.mat(data)\n",
    "    w = np.zeros([1,m])\n",
    "    b = np.zeros(1)\n",
    "    h = 1e-3\n",
    "    for i in range(iter):\n",
    "        mis = 0\n",
    "        for j in range(n):\n",
    "            xi = data[j]\n",
    "            yi = label[j]\n",
    "            res = w.dot(xi.T)+b\n",
    "            if -yi*res>=0:\n",
    "                w = w+h*xi*yi\n",
    "                b = b+h*yi\n",
    "                mis += 1\n",
    "        train_accuracy = 1-mis*1.0/n\n",
    "        print(\"epoch: %d/%d | train accuracy: %.3f \"%(i, iter, train_accuracy))\n",
    "        print(\"\")\n",
    "        test(test_data, test_label, w, b)\n",
    "    return w, b"
   ]
  },
  {
   "cell_type": "code",
   "execution_count": 85,
   "metadata": {},
   "outputs": [],
   "source": [
    "def test(xtest, ytest, w, b):\n",
    "    n, m = xtest.shape\n",
    "    mis = 0\n",
    "    xtest = np.mat(xtest)\n",
    "    for i in range(n):\n",
    "        xi = xtest[i]\n",
    "        yi = ytest[i]\n",
    "        if -yi*(xi.dot(w.T)+b)>=0:\n",
    "            mis += 1\n",
    "    print(\"mistake: %d, accuracy: %.3f\"%(mis, (n-mis*1.0)/n))"
   ]
  },
  {
   "cell_type": "code",
   "execution_count": 86,
   "metadata": {},
   "outputs": [
    {
     "name": "stdout",
     "output_type": "stream",
     "text": [
      "epoch: 0/50 | {0.799} \n",
      "\n",
      "mistake: 1911, accuracy: 0.809\n",
      "epoch: 1/50 | {0.809} \n",
      "\n",
      "mistake: 2505, accuracy: 0.749\n",
      "epoch: 2/50 | {0.809} \n",
      "\n",
      "mistake: 2571, accuracy: 0.743\n",
      "epoch: 3/50 | {0.810} \n",
      "\n",
      "mistake: 2041, accuracy: 0.796\n",
      "epoch: 4/50 | {0.811} \n",
      "\n",
      "mistake: 2654, accuracy: 0.735\n",
      "epoch: 5/50 | {0.811} \n",
      "\n",
      "mistake: 2491, accuracy: 0.751\n",
      "epoch: 6/50 | {0.811} \n",
      "\n",
      "mistake: 1936, accuracy: 0.806\n",
      "epoch: 7/50 | {0.812} \n",
      "\n",
      "mistake: 2303, accuracy: 0.770\n",
      "epoch: 8/50 | {0.811} \n",
      "\n",
      "mistake: 2039, accuracy: 0.796\n",
      "epoch: 9/50 | {0.811} \n",
      "\n",
      "mistake: 1755, accuracy: 0.824\n",
      "epoch: 10/50 | {0.812} \n",
      "\n",
      "mistake: 1909, accuracy: 0.809\n",
      "epoch: 11/50 | {0.812} \n",
      "\n",
      "mistake: 2002, accuracy: 0.800\n",
      "epoch: 12/50 | {0.812} \n",
      "\n",
      "mistake: 1981, accuracy: 0.802\n",
      "epoch: 13/50 | {0.812} \n",
      "\n",
      "mistake: 1788, accuracy: 0.821\n",
      "epoch: 14/50 | {0.811} \n",
      "\n",
      "mistake: 2410, accuracy: 0.759\n",
      "epoch: 15/50 | {0.811} \n",
      "\n",
      "mistake: 2050, accuracy: 0.795\n",
      "epoch: 16/50 | {0.811} \n",
      "\n",
      "mistake: 1933, accuracy: 0.807\n"
     ]
    },
    {
     "ename": "KeyboardInterrupt",
     "evalue": "",
     "output_type": "error",
     "traceback": [
      "\u001b[1;31m---------------------------------------------------------------------------\u001b[0m",
      "\u001b[1;31mKeyboardInterrupt\u001b[0m                         Traceback (most recent call last)",
      "\u001b[1;32m<ipython-input-86-09b60d7de9e6>\u001b[0m in \u001b[0;36m<module>\u001b[1;34m\u001b[0m\n\u001b[1;32m----> 1\u001b[1;33m \u001b[0mw\u001b[0m\u001b[1;33m,\u001b[0m \u001b[0mb\u001b[0m \u001b[1;33m=\u001b[0m \u001b[0mperceptron\u001b[0m\u001b[1;33m(\u001b[0m\u001b[0mtrain_data\u001b[0m\u001b[1;33m,\u001b[0m \u001b[0mtrain_label\u001b[0m\u001b[1;33m,\u001b[0m\u001b[1;36m50\u001b[0m\u001b[1;33m)\u001b[0m\u001b[1;33m\u001b[0m\u001b[1;33m\u001b[0m\u001b[0m\n\u001b[0m\u001b[0;32m      2\u001b[0m \u001b[0mtest\u001b[0m\u001b[1;33m(\u001b[0m\u001b[0mtest_data\u001b[0m\u001b[1;33m,\u001b[0m \u001b[0mtest_label\u001b[0m\u001b[1;33m,\u001b[0m\u001b[0mw\u001b[0m\u001b[1;33m,\u001b[0m \u001b[0mb\u001b[0m\u001b[1;33m)\u001b[0m\u001b[1;33m\u001b[0m\u001b[1;33m\u001b[0m\u001b[0m\n",
      "\u001b[1;32m<ipython-input-84-85bfec1fa326>\u001b[0m in \u001b[0;36mperceptron\u001b[1;34m(data, label, iter)\u001b[0m\n\u001b[0;32m     17\u001b[0m             \u001b[0mres\u001b[0m \u001b[1;33m=\u001b[0m \u001b[0mw\u001b[0m\u001b[1;33m.\u001b[0m\u001b[0mdot\u001b[0m\u001b[1;33m(\u001b[0m\u001b[0mxi\u001b[0m\u001b[1;33m.\u001b[0m\u001b[0mT\u001b[0m\u001b[1;33m)\u001b[0m\u001b[1;33m+\u001b[0m\u001b[0mb\u001b[0m\u001b[1;33m\u001b[0m\u001b[1;33m\u001b[0m\u001b[0m\n\u001b[0;32m     18\u001b[0m             \u001b[1;32mif\u001b[0m \u001b[1;33m-\u001b[0m\u001b[0myi\u001b[0m\u001b[1;33m*\u001b[0m\u001b[0mres\u001b[0m\u001b[1;33m>=\u001b[0m\u001b[1;36m0\u001b[0m\u001b[1;33m:\u001b[0m\u001b[1;33m\u001b[0m\u001b[1;33m\u001b[0m\u001b[0m\n\u001b[1;32m---> 19\u001b[1;33m                 \u001b[0mw\u001b[0m \u001b[1;33m=\u001b[0m \u001b[0mw\u001b[0m\u001b[1;33m+\u001b[0m\u001b[0mh\u001b[0m\u001b[1;33m*\u001b[0m\u001b[0mxi\u001b[0m\u001b[1;33m*\u001b[0m\u001b[0myi\u001b[0m\u001b[1;33m\u001b[0m\u001b[1;33m\u001b[0m\u001b[0m\n\u001b[0m\u001b[0;32m     20\u001b[0m                 \u001b[0mb\u001b[0m \u001b[1;33m=\u001b[0m \u001b[0mb\u001b[0m\u001b[1;33m+\u001b[0m\u001b[0mh\u001b[0m\u001b[1;33m*\u001b[0m\u001b[0myi\u001b[0m\u001b[1;33m\u001b[0m\u001b[1;33m\u001b[0m\u001b[0m\n\u001b[0;32m     21\u001b[0m                 \u001b[0mmis\u001b[0m \u001b[1;33m+=\u001b[0m \u001b[1;36m1\u001b[0m\u001b[1;33m\u001b[0m\u001b[1;33m\u001b[0m\u001b[0m\n",
      "\u001b[1;32mD:\\anaconda\\lib\\site-packages\\numpy\\matrixlib\\defmatrix.py\u001b[0m in \u001b[0;36m__rmul__\u001b[1;34m(self, other)\u001b[0m\n\u001b[0;32m    224\u001b[0m \u001b[1;33m\u001b[0m\u001b[0m\n\u001b[0;32m    225\u001b[0m     \u001b[1;32mdef\u001b[0m \u001b[0m__rmul__\u001b[0m\u001b[1;33m(\u001b[0m\u001b[0mself\u001b[0m\u001b[1;33m,\u001b[0m \u001b[0mother\u001b[0m\u001b[1;33m)\u001b[0m\u001b[1;33m:\u001b[0m\u001b[1;33m\u001b[0m\u001b[1;33m\u001b[0m\u001b[0m\n\u001b[1;32m--> 226\u001b[1;33m         \u001b[1;32mreturn\u001b[0m \u001b[0mN\u001b[0m\u001b[1;33m.\u001b[0m\u001b[0mdot\u001b[0m\u001b[1;33m(\u001b[0m\u001b[0mother\u001b[0m\u001b[1;33m,\u001b[0m \u001b[0mself\u001b[0m\u001b[1;33m)\u001b[0m\u001b[1;33m\u001b[0m\u001b[1;33m\u001b[0m\u001b[0m\n\u001b[0m\u001b[0;32m    227\u001b[0m \u001b[1;33m\u001b[0m\u001b[0m\n\u001b[0;32m    228\u001b[0m     \u001b[1;32mdef\u001b[0m \u001b[0m__imul__\u001b[0m\u001b[1;33m(\u001b[0m\u001b[0mself\u001b[0m\u001b[1;33m,\u001b[0m \u001b[0mother\u001b[0m\u001b[1;33m)\u001b[0m\u001b[1;33m:\u001b[0m\u001b[1;33m\u001b[0m\u001b[1;33m\u001b[0m\u001b[0m\n",
      "\u001b[1;32m<__array_function__ internals>\u001b[0m in \u001b[0;36mdot\u001b[1;34m(*args, **kwargs)\u001b[0m\n",
      "\u001b[1;31mKeyboardInterrupt\u001b[0m: "
     ]
    }
   ],
   "source": [
    "w, b = perceptron(train_data, train_label,50)\n",
    "test(test_data, test_label,w, b)"
   ]
  }
 ],
 "metadata": {
  "kernelspec": {
   "display_name": "Python 3",
   "language": "python",
   "name": "python3"
  },
  "language_info": {
   "codemirror_mode": {
    "name": "ipython",
    "version": 3
   },
   "file_extension": ".py",
   "mimetype": "text/x-python",
   "name": "python",
   "nbconvert_exporter": "python",
   "pygments_lexer": "ipython3",
   "version": "3.7.6"
  }
 },
 "nbformat": 4,
 "nbformat_minor": 4
}
