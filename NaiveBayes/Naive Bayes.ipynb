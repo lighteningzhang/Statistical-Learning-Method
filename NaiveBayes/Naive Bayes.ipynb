{
 "cells": [
  {
   "cell_type": "code",
   "execution_count": 62,
   "metadata": {},
   "outputs": [],
   "source": [
    "import pandas as pd\n",
    "import numpy as np\n",
    "import time\n",
    "data_path = r'../Mnist/'\n",
    "def load_data():\n",
    "    dtrain = pd.read_csv(data_path+'mnist_train.csv', header = None)\n",
    "    dtest = pd.read_csv(data_path+'mnist_test.csv', header = None)\n",
    "    xtrain = dtrain.loc[:,1:]\n",
    "    ytrain = dtrain.loc[:, 0]\n",
    "    xtest = dtest.loc[:, 1:]\n",
    "    ytest = dtest.loc[:, 0]\n",
    "#  图像二值化，因为条件概率下y要对每个feature的值进行预测\n",
    "#  max p(y=ck)*p(x1,x2,x3,...,xn/y=ck)\n",
    "    xtrain[xtrain<128] = 0\n",
    "    xtrain[xtrain>=128] = 1\n",
    "    xtest[xtest<128] = 0\n",
    "    xtest[xtest>=128] = 1\n",
    "    return xtrain, ytrain, xtest, ytest"
   ]
  },
  {
   "cell_type": "code",
   "execution_count": 170,
   "metadata": {},
   "outputs": [],
   "source": [
    "def calProb(xtrain, ytrain, lamb = 1):\n",
    "    xtrain = xtrain.to_numpy()\n",
    "    ytrain = ytrain.to_numpy()\n",
    "    n, m = xtrain.shape\n",
    "    Ixy = np.zeros((m,2, 10))\n",
    "    \n",
    "    Iy = np.zeros(10)\n",
    "    Py = np.zeros(10)\n",
    "    Px_y = np.zeros([m, 2, 10])\n",
    "    for k in range(10):\n",
    "        Iy[k] = np.sum(ytrain==k)\n",
    "        Py[k] = np.log((Iy[k]+lamb)/(n+10*lamb))\n",
    "    for i in range(n):\n",
    "#         print(i)\n",
    "        for j in range(m):\n",
    "#  种类为 ytrain[i], 特征所在的坐标是j， 特征坐标对应的值是 xtrain[i][j]\n",
    "            Ixy[j][xtrain[i][j]][ytrain[i]] += 1\n",
    "    for i in range(m):\n",
    "        for k in range(10):\n",
    "            Px_y[i][0][k] = np.log((Ixy[i][0][k]+lamb)/(Iy[k]+2*lamb))\n",
    "            Px_y[i][1][k] = np.log((Ixy[i][1][k]+lamb)/(Iy[k]+2*lamb))\n",
    "    return Py, Px_y"
   ]
  },
  {
   "cell_type": "code",
   "execution_count": 190,
   "metadata": {},
   "outputs": [],
   "source": [
    "def NaiveBayes(Py, Px_y, x):\n",
    "    #x 为 要估计的样本\n",
    "    _, d = x.shape\n",
    "    x = np.array(x)\n",
    "    classNum = 10\n",
    "    Pclass = [0]*10\n",
    "    for i in range(classNum):\n",
    "        for j in range(d):\n",
    "#            label yi条件下， 算x每个特征出现值 xj的概率\n",
    "            Pclass[i] += Px_y[j][x[0][j]][i]+Px_y[j][x[0][j]][i]\n",
    "            \n",
    "        Pclass[i]+=Py[i]\n",
    "#     np.argmax(Pclass)\n",
    "    return Pclass.index(max(Pclass))"
   ]
  },
  {
   "cell_type": "code",
   "execution_count": 191,
   "metadata": {},
   "outputs": [],
   "source": [
    "def model_test(xtest, ytest, Py, Px_y):\n",
    "    n, m = xtest.shape\n",
    "    acc = 0\n",
    "    xtest = np.mat(xtest)\n",
    "    ytest = np.array(ytest)\n",
    "    \n",
    "    for i in range(n):\n",
    "        cla = NaiveBayes(Py, Px_y, xtest[i])\n",
    "        if cla == ytest[i]:\n",
    "            acc += 1\n",
    "        print(\"Current accuracy: %.2f\"%(acc/(i+1)))\n",
    "    return (acc/n)"
   ]
  },
  {
   "cell_type": "code",
   "execution_count": 188,
   "metadata": {
    "collapsed": true
   },
   "outputs": [
    {
     "ename": "KeyboardInterrupt",
     "evalue": "",
     "output_type": "error",
     "traceback": [
      "\u001b[1;31m---------------------------------------------------------------------------\u001b[0m",
      "\u001b[1;31mKeyboardInterrupt\u001b[0m                         Traceback (most recent call last)",
      "\u001b[1;32m<ipython-input-188-b57441078588>\u001b[0m in \u001b[0;36m<module>\u001b[1;34m\u001b[0m\n\u001b[0;32m      1\u001b[0m \u001b[1;32mif\u001b[0m \u001b[0m__name__\u001b[0m \u001b[1;33m==\u001b[0m \u001b[1;34m\"__main__\"\u001b[0m\u001b[1;33m:\u001b[0m\u001b[1;33m\u001b[0m\u001b[1;33m\u001b[0m\u001b[0m\n\u001b[0;32m      2\u001b[0m     \u001b[0mstart\u001b[0m \u001b[1;33m=\u001b[0m \u001b[0mtime\u001b[0m\u001b[1;33m.\u001b[0m\u001b[0mtime\u001b[0m\u001b[1;33m(\u001b[0m\u001b[1;33m)\u001b[0m\u001b[1;33m\u001b[0m\u001b[1;33m\u001b[0m\u001b[0m\n\u001b[1;32m----> 3\u001b[1;33m     \u001b[0mPy\u001b[0m\u001b[1;33m,\u001b[0m \u001b[0mPx_y\u001b[0m \u001b[1;33m=\u001b[0m \u001b[0mcalProb\u001b[0m\u001b[1;33m(\u001b[0m\u001b[0mxtrain\u001b[0m\u001b[1;33m,\u001b[0m \u001b[0mytrain\u001b[0m\u001b[1;33m)\u001b[0m\u001b[1;33m\u001b[0m\u001b[1;33m\u001b[0m\u001b[0m\n\u001b[0m\u001b[0;32m      4\u001b[0m     \u001b[0macc\u001b[0m \u001b[1;33m=\u001b[0m \u001b[0mmodel_test\u001b[0m\u001b[1;33m(\u001b[0m\u001b[0mxtest\u001b[0m\u001b[1;33m,\u001b[0m \u001b[0mytest\u001b[0m\u001b[1;33m,\u001b[0m \u001b[0mPy\u001b[0m\u001b[1;33m,\u001b[0m \u001b[0mPx_y\u001b[0m\u001b[1;33m)\u001b[0m\u001b[1;33m\u001b[0m\u001b[1;33m\u001b[0m\u001b[0m\n\u001b[0;32m      5\u001b[0m     \u001b[0mend\u001b[0m \u001b[1;33m=\u001b[0m \u001b[0mtime\u001b[0m\u001b[1;33m.\u001b[0m\u001b[0mtime\u001b[0m\u001b[1;33m(\u001b[0m\u001b[1;33m)\u001b[0m\u001b[1;33m\u001b[0m\u001b[1;33m\u001b[0m\u001b[0m\n",
      "\u001b[1;32m<ipython-input-170-ea5ea05e3239>\u001b[0m in \u001b[0;36mcalProb\u001b[1;34m(xtrain, ytrain, lamb)\u001b[0m\n\u001b[0;32m     15\u001b[0m         \u001b[1;32mfor\u001b[0m \u001b[0mj\u001b[0m \u001b[1;32min\u001b[0m \u001b[0mrange\u001b[0m\u001b[1;33m(\u001b[0m\u001b[0mm\u001b[0m\u001b[1;33m)\u001b[0m\u001b[1;33m:\u001b[0m\u001b[1;33m\u001b[0m\u001b[1;33m\u001b[0m\u001b[0m\n\u001b[0;32m     16\u001b[0m \u001b[1;31m#  种类为 ytrain[i], 特征所在的坐标是j， 特征坐标对应的值是 xtrain[i][j]\u001b[0m\u001b[1;33m\u001b[0m\u001b[1;33m\u001b[0m\u001b[1;33m\u001b[0m\u001b[0m\n\u001b[1;32m---> 17\u001b[1;33m             \u001b[0mIxy\u001b[0m\u001b[1;33m[\u001b[0m\u001b[0mj\u001b[0m\u001b[1;33m]\u001b[0m\u001b[1;33m[\u001b[0m\u001b[0mxtrain\u001b[0m\u001b[1;33m[\u001b[0m\u001b[0mi\u001b[0m\u001b[1;33m]\u001b[0m\u001b[1;33m[\u001b[0m\u001b[0mj\u001b[0m\u001b[1;33m]\u001b[0m\u001b[1;33m]\u001b[0m\u001b[1;33m[\u001b[0m\u001b[0mytrain\u001b[0m\u001b[1;33m[\u001b[0m\u001b[0mi\u001b[0m\u001b[1;33m]\u001b[0m\u001b[1;33m]\u001b[0m \u001b[1;33m+=\u001b[0m \u001b[1;36m1\u001b[0m\u001b[1;33m\u001b[0m\u001b[1;33m\u001b[0m\u001b[0m\n\u001b[0m\u001b[0;32m     18\u001b[0m     \u001b[1;32mfor\u001b[0m \u001b[0mi\u001b[0m \u001b[1;32min\u001b[0m \u001b[0mrange\u001b[0m\u001b[1;33m(\u001b[0m\u001b[0mm\u001b[0m\u001b[1;33m)\u001b[0m\u001b[1;33m:\u001b[0m\u001b[1;33m\u001b[0m\u001b[1;33m\u001b[0m\u001b[0m\n\u001b[0;32m     19\u001b[0m         \u001b[1;32mfor\u001b[0m \u001b[0mk\u001b[0m \u001b[1;32min\u001b[0m \u001b[0mrange\u001b[0m\u001b[1;33m(\u001b[0m\u001b[1;36m10\u001b[0m\u001b[1;33m)\u001b[0m\u001b[1;33m:\u001b[0m\u001b[1;33m\u001b[0m\u001b[1;33m\u001b[0m\u001b[0m\n",
      "\u001b[1;31mKeyboardInterrupt\u001b[0m: "
     ]
    }
   ],
   "source": [
    "if __name__ == \"__main__\":\n",
    "    xtrain, ytrain, xtest, ytest = load_data()\n",
    "    start = time.time()\n",
    "    Py, Px_y = calProb(xtrain, ytrain)\n",
    "    acc = model_test(xtest, ytest, Py, Px_y)\n",
    "    end = time.time()\n",
    "    print(\"Time: %d | Final accuracy: %.2f\"%(end-start,acc))"
   ]
  }
 ],
 "metadata": {
  "kernelspec": {
   "display_name": "Python 3",
   "language": "python",
   "name": "python3"
  },
  "language_info": {
   "codemirror_mode": {
    "name": "ipython",
    "version": 3
   },
   "file_extension": ".py",
   "mimetype": "text/x-python",
   "name": "python",
   "nbconvert_exporter": "python",
   "pygments_lexer": "ipython3",
   "version": "3.7.6"
  }
 },
 "nbformat": 4,
 "nbformat_minor": 4
}
